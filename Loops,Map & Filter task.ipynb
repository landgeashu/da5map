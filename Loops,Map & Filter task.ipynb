{
 "cells": [
  {
   "cell_type": "markdown",
   "metadata": {},
   "source": [
    "# while loop"
   ]
  },
  {
   "cell_type": "markdown",
   "metadata": {},
   "source": [
    "* A while loop repeatedly execute a single statement or group of statements as long as the condition is true."
   ]
  },
  {
   "cell_type": "code",
   "execution_count": 10,
   "metadata": {},
   "outputs": [],
   "source": [
    "ccc_list = [\n",
    "    {'Country': 'India', 'City': 'New Delhi', 'Continent': 'Asia'},\n",
    "    {'Country': 'Australia', 'City': 'Canberra', 'Continent': 'Australia'},\n",
    "    {'Country': 'South Africa', 'City': 'Cape Town', 'Continent': 'Africa'},\n",
    "    {'Country': 'France', 'City': 'Paris', 'Continent': 'Europe'},\n",
    "    {'Country': 'United States', 'City': 'Washington DC', 'Continent': 'North America'},\n",
    "]"
   ]
  },
  {
   "cell_type": "code",
   "execution_count": 11,
   "metadata": {},
   "outputs": [
    {
     "name": "stdout",
     "output_type": "stream",
     "text": [
      "India is a part of Asia Continent\n",
      "Australia is a part of Australia Continent\n",
      "South Africa is a part of Africa Continent\n",
      "France is a part of Europe Continent\n",
      "United States is a part of North America Continent\n"
     ]
    }
   ],
   "source": [
    "i = 0\n",
    "while i < len(ccc_list):\n",
    "    country = ccc_list[i]['Country']\n",
    "    continent = ccc_list[i]['Continent']\n",
    "    print(f'{country} is a part of {continent} Continent')\n",
    "    i = i + 1"
   ]
  },
  {
   "cell_type": "markdown",
   "metadata": {},
   "source": [
    "# for loop\n",
    "* for loop used to iterate over a sequence (such as a list, tuple, dictionary, string, range) and execute a block of code for each item in the sequence."
   ]
  },
  {
   "cell_type": "code",
   "execution_count": 12,
   "metadata": {},
   "outputs": [
    {
     "name": "stdout",
     "output_type": "stream",
     "text": [
      "New Delhi is the capital of India\n",
      "Canberra is the capital of Australia\n",
      "Cape Town is the capital of South Africa\n",
      "Paris is the capital of France\n",
      "Washington DC is the capital of United States\n"
     ]
    }
   ],
   "source": [
    "for values in ccc_list:\n",
    "    country = values['Country']\n",
    "    city = values['City']\n",
    "    continent = values['Continent']\n",
    "\n",
    "    print(f'{city} is the capital of {country}')"
   ]
  },
  {
   "cell_type": "markdown",
   "metadata": {},
   "source": [
    "# Map Function"
   ]
  },
  {
   "cell_type": "markdown",
   "metadata": {},
   "source": [
    "* The map function allow to apply a function to an iterable object and returns an iterator containing the results."
   ]
  },
  {
   "cell_type": "code",
   "execution_count": 13,
   "metadata": {},
   "outputs": [],
   "source": [
    "country_and_its_language = {\n",
    "    'India': 'Hindi',\n",
    "    'Australia': 'English',\n",
    "    'South Africa': 'Afrikaans',\n",
    "    'France': 'French',\n",
    "    'United States': 'English'\n",
    "}\n"
   ]
  },
  {
   "cell_type": "code",
   "execution_count": 14,
   "metadata": {},
   "outputs": [],
   "source": [
    "def add_language(language):\n",
    "    country = language['Country']\n",
    "    if country in country_and_its_language:\n",
    "        language['Language'] = country_and_its_language[country]\n",
    "        \n",
    "    return language"
   ]
  },
  {
   "cell_type": "code",
   "execution_count": 15,
   "metadata": {},
   "outputs": [
    {
     "name": "stdout",
     "output_type": "stream",
     "text": [
      "[{'Country': 'India', 'City': 'New Delhi', 'Continent': 'Asia', 'Language': 'Hindi'}, {'Country': 'Australia', 'City': 'Canberra', 'Continent': 'Australia', 'Language': 'English'}, {'Country': 'South Africa', 'City': 'Cape Town', 'Continent': 'Africa', 'Language': 'Afrikaans'}, {'Country': 'France', 'City': 'Paris', 'Continent': 'Europe', 'Language': 'French'}, {'Country': 'United States', 'City': 'Washington DC', 'Continent': 'North America', 'Language': 'English'}]\n"
     ]
    }
   ],
   "source": [
    "cccl_list = list(map(add_language, ccc_list))\n",
    "\n",
    "print(cccl_list)"
   ]
  },
  {
   "cell_type": "markdown",
   "metadata": {},
   "source": [
    "# Filter and Lambda"
   ]
  },
  {
   "cell_type": "markdown",
   "metadata": {},
   "source": [
    "* Filter - It returns the items of iterables for the function which is True.\n",
    "* Lambda - Lambda expressions allow to create anonymous functions. It can quickly make temporary functions without properly defining function using def."
   ]
  },
  {
   "cell_type": "code",
   "execution_count": 16,
   "metadata": {},
   "outputs": [
    {
     "name": "stdout",
     "output_type": "stream",
     "text": [
      "[{'Country': 'India', 'City': 'New Delhi', 'Continent': 'Asia', 'Language': 'Hindi'}]\n"
     ]
    }
   ],
   "source": [
    "filtered_list = list(filter(lambda x: x['Language'] == 'Hindi', cccl_list))\n",
    "\n",
    "print(filtered_list)"
   ]
  },
  {
   "cell_type": "code",
   "execution_count": null,
   "metadata": {},
   "outputs": [],
   "source": []
  }
 ],
 "metadata": {
  "kernelspec": {
   "display_name": "Python 3",
   "language": "python",
   "name": "python3"
  },
  "language_info": {
   "codemirror_mode": {
    "name": "ipython",
    "version": 3
   },
   "file_extension": ".py",
   "mimetype": "text/x-python",
   "name": "python",
   "nbconvert_exporter": "python",
   "pygments_lexer": "ipython3",
   "version": "3.12.3"
  }
 },
 "nbformat": 4,
 "nbformat_minor": 2
}
